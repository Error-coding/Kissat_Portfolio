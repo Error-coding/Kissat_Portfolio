{
 "cells": [
  {
   "cell_type": "markdown",
   "metadata": {},
   "source": [
    "When time: run cluster data job  \n",
    "Function that saves list of results  \n",
    "Cluster small families"
   ]
  },
  {
   "cell_type": "markdown",
   "metadata": {},
   "source": [
    "algorithm2e\n",
    "holdout experiments\n",
    "große grafiken appendix\n",
    "Algorithmen Zeilenweise beschreiben\n",
    "LLM disclaimer"
   ]
  },
  {
   "cell_type": "markdown",
   "metadata": {},
   "source": [
    "Cluster job with all instances"
   ]
  },
  {
   "cell_type": "code",
   "execution_count": null,
   "metadata": {
    "vscode": {
     "languageId": "plaintext"
    }
   },
   "outputs": [],
   "source": [
    "Minimum hitting set algorithmus\n",
    "\\Operatorname anstatt \\Var(?)\n",
    "Nicht serif auch in Formeln (außer einstellige Ops)\n",
    "Menge Evaluation\n",
    "Algorithmenteil\n",
    "PAR2: einmal pro instanz, dann Summe\n",
    "Jede Variable definieren!\n",
    "SAT competition 2020\n",
    "Kissat mehr beschreiben\n",
    "Kissat integriert local search in CDCL\n",
    "Acknowledgements LLM\n",
    "Background work Markus"
   ]
  },
  {
   "cell_type": "code",
   "execution_count": null,
   "metadata": {
    "vscode": {
     "languageId": "plaintext"
    }
   },
   "outputs": [],
   "source": [
    "Hardware Spezifikationen                                        ####\n",
    "Alle Konfigurationen                                            ####\n",
    "Future work                                                     ####\n",
    "Fragen Introduction korrigieren                                 ####\n",
    "Scoreliste PAR2                                                 ####\n",
    "Parameter Wertebereich                                          ####\n",
    "Warum erst viele Konfigurationen?                               ####\n",
    "In approach auch Implementation, wenn relevant                  ####   \n",
    "Alle Grafiken 10 samples, mit VBS/SBS                           ####\n",
    "Abstract                                                        ####\n",
    "Roter Faden - offene Fragen, z.B. ob kleineres Portfolio gut    ####\n",
    "Alles durchreferencen\n",
    "Hardware specs nach design, libraries in appendix\n",
    "\n",
    "FIX BEAMSEARCH                                                  ####    \n",
    "ALL CONFIGURATIONS                                              ####\n",
    "REST CLASS                                                      ####\n",
    "GIT REPO\n",
    "\n",
    "Code durchkommentieren"
   ]
  }
 ],
 "metadata": {
  "language_info": {
   "name": "python"
  }
 },
 "nbformat": 4,
 "nbformat_minor": 2
}
